{
  "nbformat": 4,
  "nbformat_minor": 0,
  "metadata": {
    "colab": {
      "provenance": []
    },
    "kernelspec": {
      "name": "python3",
      "display_name": "Python 3"
    },
    "language_info": {
      "name": "python"
    }
  },
  "cells": [
    {
      "cell_type": "code",
      "execution_count": null,
      "metadata": {
        "id": "7UJmQxYOzrcP"
      },
      "outputs": [],
      "source": [
        "import pandas as pd\n",
        "import matplotlib.pyplot as plt\n",
        "from sklearn.model_selection import train_test_split\n",
        "from sklearn.feature_extraction.text import TfidfVectorizer\n",
        "from sklearn.svm import SVC\n",
        "from sklearn.pipeline import make_pipeline\n",
        "from sklearn.preprocessing import LabelEncoder"
      ]
    },
    {
      "cell_type": "code",
      "source": [
        "\n",
        "# Load the dataset from the CSV file\n",
        "file_path = 'medicine.csv'  # Replace with the actual path to your CSV file\n",
        "df = pd.read_csv(file_path)\n",
        "\n",
        "# Assume your dataset has 'Medicine' and 'Description' columns\n",
        "X = df['Drug_Name']\n",
        "y = df['Description']\n"
      ],
      "metadata": {
        "id": "cJdV6w6g165-"
      },
      "execution_count": null,
      "outputs": []
    },
    {
      "cell_type": "code",
      "source": [
        "# Encode the labels\n",
        "label_encoder = LabelEncoder()\n",
        "y_encoded = label_encoder.fit_transform(y)\n",
        "\n",
        "# Split the dataset into training and testing sets\n",
        "X_train, X_test, y_train, y_test = train_test_split(X, y_encoded, test_size=0.2, random_state=42)\n",
        "\n",
        "# Create a pipeline with TfidfVectorizer and Support Vector Machine (SVM)\n",
        "model = make_pipeline(TfidfVectorizer(), SVC())\n",
        "\n",
        "# Lists to store training and testing accuracy for each iteration\n",
        "training_accuracies = []\n",
        "testing_accuracies = []\n",
        "\n",
        "# Train the model and record accuracy for each iteration\n",
        "for i in range(2):  # You can adjust the number of iterations\n",
        "    model.fit(X_train, y_train)\n",
        "\n",
        "    # Record training accuracy\n",
        "    training_accuracy = model.score(X_train, y_train)\n",
        "    training_accuracies.append(training_accuracy)\n",
        "\n",
        "    # Record testing accuracy\n",
        "    testing_accuracy = model.score(X_test, y_test)\n",
        "    testing_accuracies.append(testing_accuracy)\n",
        "\n",
        "# Plot the training and testing accuracy graph\n",
        "iterations = range(1, len(training_accuracies) + 1)\n",
        "plt.plot(iterations, training_accuracies, label='Training Accuracy')\n",
        "plt.plot(iterations, testing_accuracies, label='Testing Accuracy')\n",
        "plt.xlabel('Iteration')\n",
        "plt.ylabel('Accuracy')\n",
        "plt.title('Training and Testing Accuracy Over Iterations')\n",
        "plt.legend()\n",
        "plt.show()\n",
        "\n"
      ],
      "metadata": {
        "id": "K_SQt_iB1-bg",
        "colab": {
          "base_uri": "https://localhost:8080/",
          "height": 472
        },
        "outputId": "af88a803-0dcb-452a-a97f-88a43b1f4a46"
      },
      "execution_count": null,
      "outputs": [
        {
          "output_type": "display_data",
          "data": {
            "text/plain": [
              "<Figure size 640x480 with 1 Axes>"
            ],
            "image/png": "[encoded data removed]"
          },
          "metadata": {}
        }
      ]
    },
    {
      "cell_type": "code",
      "source": [
        "# Train the model\n",
        "model.fit(X_train, y_train)\n",
        "\n",
        "# Function to get medicine description\n",
        "def get_medicine_description(medicine):\n",
        "    # Predict the encoded label for the given medicine\n",
        "    predicted_label = model.predict([medicine])[0]\n",
        "\n",
        "    # Decode the predicted label to get the original description\n",
        "    predicted_description = label_encoder.inverse_transform([predicted_label])[0]\n",
        "\n",
        "    return f\"Description for {medicine}:\\n{predicted_description}\"\n",
        "\n",
        "# Function to train and test the model\n",
        "def train_and_test_model():\n",
        "    # Evaluate the model on the test set\n",
        "    accuracy = model.score(X_test, y_test)\n",
        "    return accuracy"
      ],
      "metadata": {
        "id": "jQDQvQ5B5zuk"
      },
      "execution_count": null,
      "outputs": []
    },
    {
      "cell_type": "code",
      "source": [
        "# Main function for user interaction\n",
        "def main():\n",
        "    print(\"Welcome to the Medicine Information System!\")\n",
        "\n",
        "    # Train and test the model\n",
        "    accuracy = train_and_test_model()\n",
        "    print(f\"Model Accuracy on Test Set: {accuracy:.2%}\")\n",
        "\n",
        "    # Take user input for medicine or drug\n",
        "    user_input = input(\"Please enter the name of the medicine or drug: \")\n",
        "\n",
        "    # Get and display the medicine description\n",
        "    medicine_description = get_medicine_description(user_input)\n",
        "    print(\"\\nMedicine Description:\")\n",
        "    print(medicine_description)\n",
        "\n",
        "if __name__ == \"__main__\":\n",
        "    main()\n"
      ],
      "metadata": {
        "colab": {
          "base_uri": "https://localhost:8080/"
        },
        "id": "FLkZMON71t0k",
        "outputId": "36d3e709-50c1-45a2-894c-fc565d7a5472"
      },
      "execution_count": null,
      "outputs": [
        {
          "output_type": "stream",
          "name": "stdout",
          "text": [
            "Welcome to the Medicine Information System!\n",
            "Model Accuracy on Test Set: 12.19%\n",
            "Please enter the name of the medicine or drug: Daclakem\n",
            "\n",
            "Medicine Description:\n",
            "Description for Daclakem:\n",
            "lowerÂ chance of stroke in patients with high blood pressure and a heart problem called left ventricular hypertrophy (LVH)\n"
          ]
        }
      ]
    }
  ]
}